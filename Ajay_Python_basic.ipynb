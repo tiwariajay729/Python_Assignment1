{
 "cells": [
  {
   "cell_type": "code",
   "execution_count": 1,
   "id": "e0dde5cf-9210-4032-8bf8-5911d4ccac03",
   "metadata": {},
   "outputs": [
    {
     "name": "stdout",
     "output_type": "stream",
     "text": [
      "assignment 1_basic python\n"
     ]
    }
   ],
   "source": [
    "print(\"assignment 1_basic python\")"
   ]
  },
  {
   "cell_type": "raw",
   "id": "750eb8c7-056b-4d8b-b75a-0e51ea38436d",
   "metadata": {},
   "source": [
    "Set1 Q1 - What is Python, and why is it popular?"
   ]
  },
  {
   "cell_type": "raw",
   "id": "129cb89f-3f63-4a5f-a0a5-33a4425ea545",
   "metadata": {},
   "source": [
    "Ans - Python is a popular programming language because it is easy to learn, versatile and free to use."
   ]
  },
  {
   "cell_type": "raw",
   "id": "bd131934-f385-41df-b5f5-ad9b4493aeb8",
   "metadata": {},
   "source": [
    "Q2 - what is an interpreter in python?"
   ]
  },
  {
   "cell_type": "raw",
   "id": "a19af284-c557-4afc-87c0-a18b60baef64",
   "metadata": {},
   "source": [
    "Ans - A python interpreter is a computer program (environment) that reads and executes python code line by line."
   ]
  },
  {
   "cell_type": "raw",
   "id": "33cb2b2b-ffab-4541-b818-d4f41d40017a",
   "metadata": {},
   "source": [
    "Q3 - What are pre-defined keywords in Python?"
   ]
  },
  {
   "cell_type": "raw",
   "id": "828971b1-88b3-41f4-94ae-550f4fd3e75e",
   "metadata": {},
   "source": [
    "Ans - Predefined keywords in python are words with a special meaning and use that are part of the languages syntax. They cannot be changed or used as identifiers, such as variable or function names."
   ]
  },
  {
   "cell_type": "raw",
   "id": "dfa591ba-b1c1-4f2d-906e-5d337e7318c8",
   "metadata": {},
   "source": [
    "Q4 - Can keywords be used as variable names?"
   ]
  },
  {
   "cell_type": "raw",
   "id": "d8d05538-0dd4-4e2a-85d3-ac0ab8289fee",
   "metadata": {},
   "source": [
    "Ans - No, keywords cannot be used as variable names in python."
   ]
  },
  {
   "cell_type": "raw",
   "id": "d6ebacb8-7906-4795-b384-925b032d76c2",
   "metadata": {},
   "source": [
    "Q5 - What is mutability in Python?"
   ]
  },
  {
   "cell_type": "raw",
   "id": "a5a53f31-83c7-46f8-92c9-3842b891d7ca",
   "metadata": {},
   "source": [
    "Ans - Mutability in Python refers to the ability of an object to change after it has been created."
   ]
  },
  {
   "cell_type": "raw",
   "id": "1fa1bfce-8745-477f-8f60-7de52ba9d678",
   "metadata": {},
   "source": [
    "Q6 - Why are lists mutable, but tuples are immutable?"
   ]
  },
  {
   "cell_type": "raw",
   "id": "8a620c2a-1845-4cc2-901c-5d6fbca55ed6",
   "metadata": {},
   "source": [
    "Ans - Tuples and lists are the same in every way except two: tuples use parentheses instead of square brackets, and the items in tuples cannot be modified but the items in lists can be modified. We often call lists mutable as they can be changed and tuples immutable as they cannot be changed."
   ]
  },
  {
   "cell_type": "raw",
   "id": "de3e2442-5a8d-4c71-aaea-907bf3f999e2",
   "metadata": {},
   "source": [
    "Q7 - What is the difference between “==” and “is” operators in Python?"
   ]
  },
  {
   "cell_type": "raw",
   "id": "3e694a58-2112-480e-9716-fe4a96304f5b",
   "metadata": {},
   "source": [
    "Ans - The main difference between the \"==\" and \"is\" operators is that \"==\" compares the equality of objects, while \"is\" compares the identity of objects. "
   ]
  },
  {
   "cell_type": "raw",
   "id": "cc2486ca-a365-4c22-91e5-e6f17114492d",
   "metadata": {},
   "source": [
    "Q8 - What are logical operators in Python?"
   ]
  },
  {
   "cell_type": "raw",
   "id": "fa2dbcfe-13b8-46a6-b6b9-acc610febf54",
   "metadata": {},
   "source": [
    "Ans - Logical operators in Python are used to evaluate multiple conditions and determine the overall truth value of an expression. There are three logical operators in Python: and, or & not"
   ]
  },
  {
   "cell_type": "raw",
   "id": "29a7bf61-e6b7-49fc-9c54-131b74f4270a",
   "metadata": {},
   "source": [
    "Q9 - What is type casting in Python?"
   ]
  },
  {
   "cell_type": "raw",
   "id": "24990fd7-11e6-46b2-ac8a-908998431776",
   "metadata": {},
   "source": [
    "Ans - Type casting in Python is the process of converting one data type to another. It is also known as type conversion."
   ]
  },
  {
   "cell_type": "raw",
   "id": "8718e843-4d71-4313-96aa-0ae1c777e3ab",
   "metadata": {},
   "source": [
    "Q10 - What is the difference between implicit and explicit type casting?"
   ]
  },
  {
   "cell_type": "raw",
   "id": "dd43d232-776e-4ca9-a41d-0a46610a7b2e",
   "metadata": {},
   "source": [
    "Ans - The main difference between implicit and explicit type casting is that implicit type casting happens automatically, while explicit type casting requires manual intervention: Implicit type casting also known as widening conversion, this is when the compiler automatically converts a value from a smaller data type to a larger one without data loss. It's used to ensure compatibility and prevent data loss in mathematical operations.\n",
    "Explicit type casting is when the programmer manually defines the type conversion, usually to convert a larger type to a smaller one. It provides more control over the data conversion process, allowing for precise management of data types and preventing unintended data loss or errors."
   ]
  },
  {
   "cell_type": "raw",
   "id": "18b10153-54cc-4780-9ee7-bd9c71613ba0",
   "metadata": {},
   "source": [
    "Q11 - What is the purpose of conditional statements in Python?"
   ]
  },
  {
   "cell_type": "raw",
   "id": "11c3e7fe-8f19-48ee-b225-7553aab394ac",
   "metadata": {},
   "source": [
    "Ans - The purpose of conditional statements in Python is to guide a program's execution by making decisions based on certain conditions: \n",
    "Control flow - Conditional statements determine the direction of a program's code execution. \n",
    "Efficiency - Conditional statements can make code more efficient and easier to read. For example, you can use a conditional statement to print a message only if a certain condition is met. \n",
    "Decision making - Conditional statements allow you to make decisions based on variable values or comparison results. \n",
    "Some examples of conditional statements in Python include: \n",
    "If, Else & Elif\n",
    "\n",
    "Some operators used with Python conditional statements include: \n",
    "\n",
    "Equals (==), Not Equals (!=), Greater Than (>), Less Than (<), Greater Than or Equal to (>=)"
   ]
  },
  {
   "cell_type": "raw",
   "id": "6cd21d79-b81a-4903-8ee5-60746cd93746",
   "metadata": {},
   "source": [
    "Q12 - How does the elif statement work?"
   ]
  },
  {
   "cell_type": "raw",
   "id": "d3c08945-198a-4c19-8d49-4bb63db73106",
   "metadata": {},
   "source": [
    "Ans - Elif: Checks multiple conditions in sequence and executes different code blocks depending on which condition is true"
   ]
  },
  {
   "cell_type": "raw",
   "id": "f2f41a85-b7e7-4d3b-b805-6301f7c57e80",
   "metadata": {},
   "source": [
    "Q13 - What is the difference between for and while loops?"
   ]
  },
  {
   "cell_type": "raw",
   "id": "55469a18-647f-46e0-a421-b5c0934facdd",
   "metadata": {},
   "source": [
    "Ans - For loop is used to iterate over a sequence of items. While loop is used to repeatedly execute a block of statements while a condition is true."
   ]
  },
  {
   "cell_type": "raw",
   "id": "d92afa2e-8be8-45be-93d1-bf9e307b4d25",
   "metadata": {},
   "source": [
    "Q14 - Describe a scenario where a while loop is more suitable than a for loop?"
   ]
  },
  {
   "cell_type": "raw",
   "id": "ca81990e-c8b1-445c-bca3-0f5cfcb8a68a",
   "metadata": {},
   "source": [
    "Ans - You would use a while loop if you do not know how many times a loop will need to run because while loops are ideal when the number of iterations is not predetermined. To do number calculations, both while and for loops can be used, but typically a for loop is preferred if you know the exact number of iterations"
   ]
  },
  {
   "cell_type": "raw",
   "id": "189de25c-a45f-4f31-ad4c-0778efbecd52",
   "metadata": {},
   "source": [
    "Set 2 Q1 - Write a Python program to print \"Hello, World!\" ?\n"
   ]
  },
  {
   "cell_type": "code",
   "execution_count": 9,
   "id": "5a2ea400-0768-4628-93a3-791f3a847e10",
   "metadata": {},
   "outputs": [
    {
     "name": "stdout",
     "output_type": "stream",
     "text": [
      "Hello, world!\n"
     ]
    }
   ],
   "source": [
    "print(\"Hello, world!\")"
   ]
  },
  {
   "cell_type": "raw",
   "id": "13eec7ae-1505-459f-bec9-feb0d58767d7",
   "metadata": {},
   "source": [
    "Set 2 Q2 - Write a Python program that displays your name and age?"
   ]
  },
  {
   "cell_type": "code",
   "execution_count": 11,
   "id": "a54877af-1d18-4435-a56e-dd4433b05306",
   "metadata": {},
   "outputs": [
    {
     "name": "stdin",
     "output_type": "stream",
     "text": [
      "Enter your name:  Ajay Tiwari\n",
      "Enter your age:  36\n"
     ]
    },
    {
     "name": "stdout",
     "output_type": "stream",
     "text": [
      "Name: Ajay Tiwari\n",
      "Age: 36\n"
     ]
    }
   ],
   "source": [
    "name = input(\"Enter your name: \")\n",
    "age = int(input(\"Enter your age: \"))\n",
    "print(\"Name:\", name)\n",
    "print(\"Age:\", age)"
   ]
  },
  {
   "cell_type": "raw",
   "id": "028dc796-e6bd-4364-996b-c62a5b49f8ba",
   "metadata": {},
   "source": [
    "Set 2 Q3 - Write code to print all the pre-defined keywords in Python using the keyword library?"
   ]
  },
  {
   "cell_type": "code",
   "execution_count": 15,
   "id": "bbfd5d6c-91a5-467c-8e9b-bb865267a3a8",
   "metadata": {},
   "outputs": [
    {
     "name": "stdout",
     "output_type": "stream",
     "text": [
      "\n",
      "Here is a list of the Python keywords.  Enter any keyword to get more help.\n",
      "\n",
      "False               class               from                or\n",
      "None                continue            global              pass\n",
      "True                def                 if                  raise\n",
      "and                 del                 import              return\n",
      "as                  elif                in                  try\n",
      "assert              else                is                  while\n",
      "async               except              lambda              with\n",
      "await               finally             nonlocal            yield\n",
      "break               for                 not                 \n",
      "\n"
     ]
    }
   ],
   "source": [
    "help(\"keywords\")"
   ]
  },
  {
   "cell_type": "raw",
   "id": "13aeaffe-4aa1-4a74-9519-a59f527d3369",
   "metadata": {},
   "source": [
    "Set 2 Q4 - Write a program that checks if a given word is a Python keyword?"
   ]
  },
  {
   "cell_type": "code",
   "execution_count": 23,
   "id": "61e1ebaa-3bf2-4440-b0ae-c936c4ae7f98",
   "metadata": {},
   "outputs": [
    {
     "name": "stdin",
     "output_type": "stream",
     "text": [
      "Enter a word:  False\n"
     ]
    },
    {
     "name": "stdout",
     "output_type": "stream",
     "text": [
      "'False' is a Python keyword.\n"
     ]
    }
   ],
   "source": [
    "import keyword\n",
    "word = input(\"Enter a word: \")\n",
    "if keyword.iskeyword(word):\n",
    "    print(f\"'{word}' is a Python keyword.\")\n",
    "else:\n",
    "    print(f\"'{word}' is not a Python keyword.\")"
   ]
  },
  {
   "cell_type": "raw",
   "id": "4bf6abc6-6b2c-4916-b653-cfae58c4554c",
   "metadata": {},
   "source": [
    "Set 2 Q5 - Create a list and tuple in Python, and demonstrate how attempting to change an element works differently\n",
    "for each?"
   ]
  },
  {
   "cell_type": "code",
   "execution_count": 25,
   "id": "226ac9c3-f355-4af8-af03-8b1d279bb0e6",
   "metadata": {},
   "outputs": [
    {
     "name": "stdout",
     "output_type": "stream",
     "text": [
      "Original list: [1, 2, 3, 4, 5]\n"
     ]
    }
   ],
   "source": [
    "list = [1, 2, 3, 4, 5]\n",
    "tuple = (1, 2, 3, 4, 5)\n",
    "print(\"Original list:\", list)"
   ]
  },
  {
   "cell_type": "code",
   "execution_count": 27,
   "id": "6318f0de-4942-4980-9042-478ac1752efd",
   "metadata": {},
   "outputs": [
    {
     "name": "stdout",
     "output_type": "stream",
     "text": [
      "Modified list: [1, 2, 7, 4, 5]\n"
     ]
    }
   ],
   "source": [
    "list = [1, 2, 3, 4, 5]\n",
    "tuple = (1, 2, 3, 4, 5)\n",
    "list[2] = 7  # trying to modify the list\n",
    "print(\"Modified list:\", list)"
   ]
  },
  {
   "cell_type": "code",
   "execution_count": 31,
   "id": "42dce36e-5a8a-4186-b16d-21719cf80abe",
   "metadata": {},
   "outputs": [
    {
     "name": "stdout",
     "output_type": "stream",
     "text": [
      "Original tuple: (1, 2, 3, 4, 5)\n"
     ]
    }
   ],
   "source": [
    "list = [1, 2, 3, 4, 5]\n",
    "tuple = (1, 2, 3, 4, 5)\n",
    "print(\"Original tuple:\", tuple)"
   ]
  },
  {
   "cell_type": "code",
   "execution_count": 35,
   "id": "ddc5b95b-d42d-432a-afa3-4085d273952f",
   "metadata": {},
   "outputs": [
    {
     "ename": "TypeError",
     "evalue": "'tuple' object does not support item assignment",
     "output_type": "error",
     "traceback": [
      "\u001b[1;31m---------------------------------------------------------------------------\u001b[0m",
      "\u001b[1;31mTypeError\u001b[0m                                 Traceback (most recent call last)",
      "Cell \u001b[1;32mIn[35], line 3\u001b[0m\n\u001b[0;32m      1\u001b[0m \u001b[38;5;28mlist\u001b[39m \u001b[38;5;241m=\u001b[39m [\u001b[38;5;241m1\u001b[39m, \u001b[38;5;241m2\u001b[39m, \u001b[38;5;241m3\u001b[39m, \u001b[38;5;241m4\u001b[39m, \u001b[38;5;241m5\u001b[39m]\n\u001b[0;32m      2\u001b[0m \u001b[38;5;28mtuple\u001b[39m \u001b[38;5;241m=\u001b[39m (\u001b[38;5;241m1\u001b[39m, \u001b[38;5;241m2\u001b[39m, \u001b[38;5;241m3\u001b[39m, \u001b[38;5;241m4\u001b[39m, \u001b[38;5;241m5\u001b[39m)\n\u001b[1;32m----> 3\u001b[0m \u001b[38;5;28mtuple\u001b[39m[\u001b[38;5;241m2\u001b[39m] \u001b[38;5;241m=\u001b[39m \u001b[38;5;241m7\u001b[39m  \u001b[38;5;66;03m# trying to modify tuple\u001b[39;00m\n\u001b[0;32m      4\u001b[0m \u001b[38;5;28mprint\u001b[39m(\u001b[38;5;124m\"\u001b[39m\u001b[38;5;124mModified tuple:\u001b[39m\u001b[38;5;124m\"\u001b[39m, \u001b[38;5;28mtuple\u001b[39m)\n",
      "\u001b[1;31mTypeError\u001b[0m: 'tuple' object does not support item assignment"
     ]
    }
   ],
   "source": [
    "list = [1, 2, 3, 4, 5]\n",
    "tuple = (1, 2, 3, 4, 5)\n",
    "tuple[2] = 7  # trying to modify tuple give below error\n",
    "print(\"Modified tuple:\", tuple)"
   ]
  },
  {
   "cell_type": "raw",
   "id": "83e1db45-7467-44c0-a378-978d2f7abceb",
   "metadata": {},
   "source": [
    "Set 2 Q6 & Q7 - Write a function to demonstrate the behavior of mutable and immutable arguments?"
   ]
  },
  {
   "cell_type": "raw",
   "id": "50ddf942-79e9-4658-a7b0-0f5e89db2e93",
   "metadata": {},
   "source": [
    "Ans - In Python, the behavior of mutable and immutable arguments can differ when passed into a function. Immutable objects (like integers, strings, and tuples) cannot be modified in place, while mutable objects (like lists and dictionaries) can be modified in place.\n",
    "\n",
    "To demonstrate the behavior, let's write a function that shows how mutable and immutable types behave when passed as arguments:\n",
    "\n",
    "def demonstrate_mutability(immutable_arg, mutable_arg):\n",
    "    print(\"Before modification:\")\n",
    "    print(f\"Immutable argument: {immutable_arg}\")\n",
    "    print(f\"Mutable argument: {mutable_arg}\")\n",
    "    \n",
    "modifying the immutable argument (this creates a new object)\n",
    "    immutable_arg += 1\n",
    "Modify the mutable argument (this changes the original object)\n",
    "    mutable_arg.append(4)\n",
    "    \n",
    "    print(\"\\nAfter modification:\")\n",
    "    print(f\"Immutable argument: {immutable_arg}\")\n",
    "    print(f\"Mutable argument: {mutable_arg}\")"
   ]
  },
  {
   "cell_type": "code",
   "execution_count": 6,
   "id": "ef9ea075-8082-4fec-8c51-1fd866144221",
   "metadata": {},
   "outputs": [
    {
     "name": "stdout",
     "output_type": "stream",
     "text": [
      "Before modification:\n",
      "Immutable argument: 10\n",
      "Mutable argument: [1, 2, 3]\n",
      "\n",
      "After modification:\n",
      "Immutable argument: 11\n",
      "Mutable argument: [1, 2, 3, 4]\n"
     ]
    }
   ],
   "source": [
    "immutable_arg = 10  #Immutable type (int)\n",
    "mutable_arg = [1, 2, 3]  #Mutable type (list)\n",
    "demonstrate_mutability(immutable_arg, mutable_arg)"
   ]
  },
  {
   "cell_type": "raw",
   "id": "f7e5821c-a224-409f-8376-25896af4d3b8",
   "metadata": {},
   "source": [
    "Set 2 Q8 - Write a program to demonstrate the use of logical operators?"
   ]
  },
  {
   "cell_type": "code",
   "execution_count": 49,
   "id": "a1f559a2-58a6-4fa5-9730-3a50af12c2b0",
   "metadata": {},
   "outputs": [
    {
     "name": "stdout",
     "output_type": "stream",
     "text": [
      "x is greater than z and y is greater than x: False\n"
     ]
    }
   ],
   "source": [
    "# Ans 8 (I) -  Using the 'and' operator \n",
    "# Check if x is greater than z and y is greater than x\n",
    "\n",
    "x = 50\n",
    "y = 100\n",
    "z = 923\n",
    "\n",
    "if x > z and y > x:\n",
    "    print(f\"x is greater than z and y is greater than x: True\")\n",
    "else:\n",
    "    print(f\"x is greater than z and y is greater than x: False\")"
   ]
  },
  {
   "cell_type": "code",
   "execution_count": 51,
   "id": "5654b83d-48a0-48c7-8b31-ea4633f4b563",
   "metadata": {},
   "outputs": [
    {
     "name": "stdout",
     "output_type": "stream",
     "text": [
      "x is greater than y or y is greater than z: False\n"
     ]
    }
   ],
   "source": [
    "# Ans 8 (II) Using the 'or' operator\n",
    "# Check if x is greater than y or y is greater than z\n",
    "if x > y or y > z:\n",
    "    print(f\"x is greater than y or y is greater than z: True\")\n",
    "else:\n",
    "    print(f\"x is greater than y or y is greater than z: False\")"
   ]
  },
  {
   "cell_type": "code",
   "execution_count": 53,
   "id": "2fcb2d88-b738-4029-98eb-d9e209d4ee01",
   "metadata": {},
   "outputs": [
    {
     "name": "stdout",
     "output_type": "stream",
     "text": [
      "x is not equal to y: True\n"
     ]
    }
   ],
   "source": [
    "# Ans 8 (III) Using the 'not' operator\n",
    "# Check if x is not equal to y\n",
    "if not(x == y):\n",
    "    print(f\"x is not equal to y: True\")\n",
    "else:\n",
    "    print(f\"x is not equal to y: False\")"
   ]
  },
  {
   "cell_type": "code",
   "execution_count": 55,
   "id": "46bf0392-b8c4-4f95-9985-6c94d9e1da0d",
   "metadata": {},
   "outputs": [
    {
     "name": "stdout",
     "output_type": "stream",
     "text": [
      "Condition met using combined logical operators: True\n"
     ]
    }
   ],
   "source": [
    "# Ans 8 (IV) Combining all three logical operators\n",
    "# Check if x is greater than z, and if y is less than 30, or if x is not equal to y\n",
    "if (x > z and y < 30) or not(x == y):\n",
    "    print(f\"Condition met using combined logical operators: True\")\n",
    "else:\n",
    "    print(f\"Condition met using combined logical operators: False\")"
   ]
  },
  {
   "cell_type": "raw",
   "id": "716f5b99-6180-482b-8724-b6a596e7c8ff",
   "metadata": {},
   "source": [
    "Set 2 Q8 - Write a Python program to convert user input from string to integer, float, and boolean types?"
   ]
  },
  {
   "cell_type": "code",
   "execution_count": 77,
   "id": "4ec345ad-7a5b-4646-b8df-104361f785e9",
   "metadata": {},
   "outputs": [
    {
     "name": "stdin",
     "output_type": "stream",
     "text": [
      "Enter a value:  1\n"
     ]
    },
    {
     "name": "stdout",
     "output_type": "stream",
     "text": [
      "Converted to integer: 1\n"
     ]
    }
   ],
   "source": [
    "# Ans 8 (I) convert input to integer, float, and boolean types\n",
    "#input as a string\n",
    "user_input = input(\"Enter a value: \")\n",
    "try:\n",
    "    int_value = int(user_input)  # Convert string to integer\n",
    "    print(f\"Converted to integer: {int_value}\")\n",
    "except ValueError:\n",
    "    print(\"Invalid input for integer conversion.\")"
   ]
  },
  {
   "cell_type": "code",
   "execution_count": 79,
   "id": "69a999b5-789a-4364-af9a-5edd1047fcb3",
   "metadata": {},
   "outputs": [
    {
     "name": "stdout",
     "output_type": "stream",
     "text": [
      "Converted to float: 1.0\n"
     ]
    }
   ],
   "source": [
    "#Ans 8 (II) \n",
    "try:\n",
    "    float_value = float(user_input)  # Convert string to float\n",
    "    print(f\"Converted to float: {float_value}\")\n",
    "except ValueError:\n",
    "    print(\"Invalid input for float conversion.\")"
   ]
  },
  {
   "cell_type": "code",
   "execution_count": 81,
   "id": "0adf1519-f9cb-47b5-98aa-b4bdb112bbc9",
   "metadata": {},
   "outputs": [
    {
     "name": "stdout",
     "output_type": "stream",
     "text": [
      "Converted to boolean: True\n"
     ]
    }
   ],
   "source": [
    "# Ans 8 (III) Convert to boolean type\n",
    "boolean_value = user_input.strip().lower() in [\"true\", \"1\", \"t\", \"y\", \"yes\"]\n",
    "print(f\"Converted to boolean: {boolean_value}\")"
   ]
  },
  {
   "cell_type": "raw",
   "id": "80280b26-9d9f-4dc3-ac72-779e18233352",
   "metadata": {},
   "source": [
    "Set 2 Q9 - Write code to demonstrate type casting with list elements?"
   ]
  },
  {
   "cell_type": "code",
   "execution_count": 89,
   "id": "1cd9a24b-29db-4fe4-8985-99a503c8ddb9",
   "metadata": {},
   "outputs": [
    {
     "name": "stdout",
     "output_type": "stream",
     "text": [
      "Original list: ['10', '20.5', 'True', 30, 40.75, False]\n"
     ]
    }
   ],
   "source": [
    "# Ans - 9 (I) - Original list with different types of elements\n",
    "mixed_list = [\"10\", \"20.5\", \"True\", 30, 40.75, False]\n",
    "print(\"Original list:\", mixed_list)"
   ]
  },
  {
   "cell_type": "code",
   "execution_count": 105,
   "id": "4ab10650-7487-4968-85b0-8f4b1e493e05",
   "metadata": {},
   "outputs": [
    {
     "name": "stdout",
     "output_type": "stream",
     "text": [
      "\n",
      "List after converting to booleans: [True, True, True, True, True, False]\n"
     ]
    }
   ],
   "source": [
    "# Ans - 9 (II) Convert all elements to boolean type\n",
    "bool_list = [bool(item) if isinstance(item, (str, int, float)) else item for item in mixed_list]\n",
    "print(\"\\nList after converting to booleans:\", bool_list)"
   ]
  },
  {
   "cell_type": "code",
   "execution_count": 107,
   "id": "bb130fc2-3c9e-49d4-8b14-65cfe7f463d7",
   "metadata": {},
   "outputs": [
    {
     "name": "stdout",
     "output_type": "stream",
     "text": [
      "\n",
      "List after converting to strings: ['10', '20.5', 'True', '30', '40.75', 'False']\n"
     ]
    }
   ],
   "source": [
    "# Ans - 9 (III) Convert all elements to string type\n",
    "str_list = [str(item) for item in mixed_list]\n",
    "print(\"\\nList after converting to strings:\", str_list)"
   ]
  },
  {
   "cell_type": "code",
   "execution_count": 113,
   "id": "eacdddae-8a6c-44ad-80fd-11e54afbf996",
   "metadata": {},
   "outputs": [
    {
     "ename": "ValueError",
     "evalue": "could not convert string to float: 'True'",
     "output_type": "error",
     "traceback": [
      "\u001b[1;31m---------------------------------------------------------------------------\u001b[0m",
      "\u001b[1;31mValueError\u001b[0m                                Traceback (most recent call last)",
      "Cell \u001b[1;32mIn[113], line 2\u001b[0m\n\u001b[0;32m      1\u001b[0m \u001b[38;5;66;03m# Convert all elements to float type\u001b[39;00m\n\u001b[1;32m----> 2\u001b[0m float_list \u001b[38;5;241m=\u001b[39m [\u001b[38;5;28mfloat\u001b[39m(item) \u001b[38;5;28;01mif\u001b[39;00m \u001b[38;5;28misinstance\u001b[39m(item, (\u001b[38;5;28mstr\u001b[39m, \u001b[38;5;28mint\u001b[39m)) \u001b[38;5;28;01melse\u001b[39;00m item \u001b[38;5;28;01mfor\u001b[39;00m item \u001b[38;5;129;01min\u001b[39;00m mixed_list]\n\u001b[0;32m      3\u001b[0m \u001b[38;5;28mprint\u001b[39m(\u001b[38;5;124m\"\u001b[39m\u001b[38;5;130;01m\\n\u001b[39;00m\u001b[38;5;124mList after converting to floats:\u001b[39m\u001b[38;5;124m\"\u001b[39m, float_list)\n",
      "\u001b[1;31mValueError\u001b[0m: could not convert string to float: 'True'"
     ]
    }
   ],
   "source": [
    "# # Ans - 9 (IV) Convert all elements to float type\n",
    "float_list = [float(item) if isinstance(item, (str, int)) else item for item in mixed_list]\n",
    "print(\"\\nList after converting to floats:\", float_list)"
   ]
  },
  {
   "cell_type": "raw",
   "id": "34b9348a-2bec-46c7-b21e-81dc32a976bb",
   "metadata": {},
   "source": [
    "Set 2 Q10 - Write a program that checks if a number is positive, negative, or zero?"
   ]
  },
  {
   "cell_type": "code",
   "execution_count": 125,
   "id": "421870d5-5b74-4a92-b68f-aa2419838843",
   "metadata": {},
   "outputs": [
    {
     "name": "stdin",
     "output_type": "stream",
     "text": [
      "Enter a number:  1.22\n"
     ]
    },
    {
     "name": "stdout",
     "output_type": "stream",
     "text": [
      "The number is positive.\n"
     ]
    }
   ],
   "source": [
    "# Ans 10 - Function to check if the number is positive, negative, or zero\n",
    "def check_number(num):\n",
    "    if num > 0:\n",
    "        return \"The number is positive.\"\n",
    "    elif num < 0:\n",
    "        return \"The number is negative.\"\n",
    "    else:\n",
    "        return \"The number is zero.\"\n",
    "\n",
    "# Input from user\n",
    "number = float(input(\"Enter a number: \"))\n",
    "\n",
    "# Call the function and display the result\n",
    "result = check_number(number)\n",
    "print(result)"
   ]
  },
  {
   "cell_type": "raw",
   "id": "156377e7-c967-44af-a385-514e35704bb6",
   "metadata": {},
   "source": [
    "Set 2 Q11 - Write a for loop to print numbers from 1 to 100?"
   ]
  },
  {
   "cell_type": "code",
   "execution_count": 127,
   "id": "ddcd476b-dab7-4f84-bc1a-1d8d2fa3537b",
   "metadata": {},
   "outputs": [
    {
     "name": "stdout",
     "output_type": "stream",
     "text": [
      "1\n",
      "2\n",
      "3\n",
      "4\n",
      "5\n",
      "6\n",
      "7\n",
      "8\n",
      "9\n",
      "10\n",
      "11\n",
      "12\n",
      "13\n",
      "14\n",
      "15\n",
      "16\n",
      "17\n",
      "18\n",
      "19\n",
      "20\n",
      "21\n",
      "22\n",
      "23\n",
      "24\n",
      "25\n",
      "26\n",
      "27\n",
      "28\n",
      "29\n",
      "30\n",
      "31\n",
      "32\n",
      "33\n",
      "34\n",
      "35\n",
      "36\n",
      "37\n",
      "38\n",
      "39\n",
      "40\n",
      "41\n",
      "42\n",
      "43\n",
      "44\n",
      "45\n",
      "46\n",
      "47\n",
      "48\n",
      "49\n",
      "50\n",
      "51\n",
      "52\n",
      "53\n",
      "54\n",
      "55\n",
      "56\n",
      "57\n",
      "58\n",
      "59\n",
      "60\n",
      "61\n",
      "62\n",
      "63\n",
      "64\n",
      "65\n",
      "66\n",
      "67\n",
      "68\n",
      "69\n",
      "70\n",
      "71\n",
      "72\n",
      "73\n",
      "74\n",
      "75\n",
      "76\n",
      "77\n",
      "78\n",
      "79\n",
      "80\n",
      "81\n",
      "82\n",
      "83\n",
      "84\n",
      "85\n",
      "86\n",
      "87\n",
      "88\n",
      "89\n",
      "90\n",
      "91\n",
      "92\n",
      "93\n",
      "94\n",
      "95\n",
      "96\n",
      "97\n",
      "98\n",
      "99\n",
      "100\n"
     ]
    }
   ],
   "source": [
    "# ans 11 - Using a for loop to print numbers from 1 to 100\n",
    "for num in range(1, 101):\n",
    "    print(num)"
   ]
  },
  {
   "cell_type": "raw",
   "id": "ce99931d-6871-4787-b136-76353b711f81",
   "metadata": {},
   "source": [
    "Set 2 Q12 - Write a Python program to find the sum of all even numbers between 1 and 500?"
   ]
  },
  {
   "cell_type": "code",
   "execution_count": 153,
   "id": "7d932850-cca5-4d5e-9d4a-d342874515ff",
   "metadata": {},
   "outputs": [
    {
     "name": "stdout",
     "output_type": "stream",
     "text": [
      "The sum of all even numbers between 1 and 500 is: 62750\n"
     ]
    }
   ],
   "source": [
    "# Ans - 12 - # Loop through numbers from 1 to 500\n",
    "sum_of_even_numbers = 0\n",
    "\n",
    "for num in range(2, 501, 2):\n",
    "    sum_of_even_numbers += num\n",
    "\n",
    "# Print the result\n",
    "print(\"The sum of all even numbers between 1 and 500 is:\", sum_of_even_numbers)"
   ]
  },
  {
   "cell_type": "raw",
   "id": "2f8790b2-de1d-4775-831b-8257dea9eaec",
   "metadata": {},
   "source": [
    "Set 2 Q13 - Write a program to reverse a string using a while loop?"
   ]
  },
  {
   "cell_type": "code",
   "execution_count": 161,
   "id": "4797f971-d6c9-4516-a753-0ec0e3a1113e",
   "metadata": {},
   "outputs": [
    {
     "name": "stdin",
     "output_type": "stream",
     "text": [
      "Enter a string:  123\n"
     ]
    },
    {
     "name": "stdout",
     "output_type": "stream",
     "text": [
      "Reversed string: 321\n"
     ]
    }
   ],
   "source": [
    "# Ans 13 - Function to reverse a string using a while loop\n",
    "def reverse_string(input_string):\n",
    "    reversed_string = \"\"  # Initialize an empty string to store the reversed string\n",
    "    index = len(input_string) - 1  # Start from the last character\n",
    "\n",
    "    # Use a while loop to iterate through the string backwards\n",
    "    while index >= 0:\n",
    "        reversed_string += input_string[index]  # Add the character at the current index to the reversed string\n",
    "        index -= 1  # Move to the previous character\n",
    "\n",
    "    return reversed_string\n",
    "\n",
    "user_input = input(\"Enter a string: \")\n",
    "\n",
    "reversed_str = reverse_string(user_input)\n",
    "print(\"Reversed string:\", reversed_str)"
   ]
  },
  {
   "cell_type": "markdown",
   "id": "83811890-bab2-4a39-aa3e-9a93ac9adcfe",
   "metadata": {},
   "source": [
    "Set 2 Q14 - Write a Python program to calculate the factorial of a number provided by the user using a while loop?"
   ]
  },
  {
   "cell_type": "code",
   "execution_count": 175,
   "id": "46410ebc-be3a-4897-9579-a33c084b5ecd",
   "metadata": {},
   "outputs": [
    {
     "name": "stdin",
     "output_type": "stream",
     "text": [
      "Enter a number:  -123\n"
     ]
    },
    {
     "name": "stdout",
     "output_type": "stream",
     "text": [
      "The factorial of -123 is: Factorial does not exist for negative numbers\n"
     ]
    }
   ],
   "source": [
    "# Ans 14 - Function to calculate factorial using a while loop\n",
    "def calculate_factorial(num):\n",
    "    if num < 0:\n",
    "        return \"Factorial does not exist for negative numbers\"\n",
    "    \n",
    "    factorial = 1  # Initialize factorial to 1 (since factorial of 0 is 1)\n",
    "    \n",
    "    # Use a while loop to calculate the factorial\n",
    "    while num > 1:\n",
    "        factorial *= num  # Multiply factorial by the current number\n",
    "        num -= 1  # Decrease the number by 1\n",
    "    \n",
    "    return factorial\n",
    "\n",
    "number = int(input(\"Enter a number: \"))\n",
    "\n",
    "result = calculate_factorial(number)\n",
    "print(f\"The factorial of {number} is: {result}\")"
   ]
  }
 ],
 "metadata": {
  "kernelspec": {
   "display_name": "Python 3 (ipykernel)",
   "language": "python",
   "name": "python3"
  },
  "language_info": {
   "codemirror_mode": {
    "name": "ipython",
    "version": 3
   },
   "file_extension": ".py",
   "mimetype": "text/x-python",
   "name": "python",
   "nbconvert_exporter": "python",
   "pygments_lexer": "ipython3",
   "version": "3.12.7"
  }
 },
 "nbformat": 4,
 "nbformat_minor": 5
}
