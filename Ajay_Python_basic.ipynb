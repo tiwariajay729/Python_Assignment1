{
  "nbformat": 4,
  "nbformat_minor": 0,
  "metadata": {
    "colab": {
      "provenance": []
    },
    "kernelspec": {
      "name": "python3",
      "display_name": "Python 3"
    },
    "language_info": {
      "name": "python"
    }
  },
  "cells": [
    {
      "cell_type": "markdown",
      "source": [
        "\n",
        "\n",
        "```\n",
        "# This is formatted as code\n",
        "```\n",
        "\n"
      ],
      "metadata": {
        "id": "e2ysF_LY26sT"
      }
    },
    {
      "cell_type": "markdown",
      "source": [
        "Set1 Q1 - What is Python, and why is it popular?"
      ],
      "metadata": {
        "id": "Xu_xhc_23M1r"
      }
    },
    {
      "cell_type": "markdown",
      "source": [
        "Ans - Python is a popular programming language because it is easy to learn, versatile and free to use."
      ],
      "metadata": {
        "id": "TO4TfvJP3QGH"
      }
    },
    {
      "cell_type": "markdown",
      "source": [
        "Q2 - what is an interpreter in python?"
      ],
      "metadata": {
        "id": "X4B-K9c13Tsw"
      }
    },
    {
      "cell_type": "markdown",
      "source": [
        "Ans - A python interpreter is a computer program (environment) that reads and executes python code line by line."
      ],
      "metadata": {
        "id": "2MDNr3at3X3M"
      }
    },
    {
      "cell_type": "markdown",
      "source": [
        "Q3 - What are pre-defined keywords in Python?"
      ],
      "metadata": {
        "id": "pWC38wT_3bGk"
      }
    },
    {
      "cell_type": "markdown",
      "source": [
        "Ans - Predefined keywords in python are words with a special meaning and use that are part of the languages syntax. They cannot be changed or used as identifiers, such as variable or function names."
      ],
      "metadata": {
        "id": "-K-9VX9_3dKU"
      }
    },
    {
      "cell_type": "markdown",
      "source": [
        "Q4 - Can keywords be used as variable names?"
      ],
      "metadata": {
        "id": "75Ir5jJE3feO"
      }
    },
    {
      "cell_type": "markdown",
      "source": [
        "Ans - No, keywords cannot be used as variable names in python."
      ],
      "metadata": {
        "id": "70HiIt793htZ"
      }
    },
    {
      "cell_type": "markdown",
      "source": [
        "Q5 - What is mutability in Python?"
      ],
      "metadata": {
        "id": "US5pxopE3j1E"
      }
    },
    {
      "cell_type": "markdown",
      "source": [
        "Ans - Mutability in Python refers to the ability of an object to change after it has been created."
      ],
      "metadata": {
        "id": "FTzJoRKa3m4U"
      }
    },
    {
      "cell_type": "markdown",
      "source": [
        "Q6 - Why are lists mutable, but tuples are immutable?"
      ],
      "metadata": {
        "id": "Ps9iu4ym3phw"
      }
    },
    {
      "cell_type": "markdown",
      "source": [
        "Ans - Tuples and lists are the same in every way except two: tuples use parentheses instead of square brackets, and the items in tuples cannot be modified but the items in lists can be modified. We often call lists mutable as they can be changed and tuples immutable as they cannot be changed."
      ],
      "metadata": {
        "id": "IRkH1TPZ3rbV"
      }
    },
    {
      "cell_type": "markdown",
      "source": [
        "Q7 - What is the difference between “==” and “is” operators in Python?"
      ],
      "metadata": {
        "id": "2c5YidgV3uS6"
      }
    },
    {
      "cell_type": "markdown",
      "source": [
        "Ans - The main difference between the \"==\" and \"is\" operators is that \"==\" compares the equality of objects, while \"is\" compares the identity of objects."
      ],
      "metadata": {
        "id": "ORxx1gIj30Ps"
      }
    },
    {
      "cell_type": "markdown",
      "source": [
        "Q8 - What are logical operators in Python?"
      ],
      "metadata": {
        "id": "p1dRuiUL32Na"
      }
    },
    {
      "cell_type": "markdown",
      "source": [
        "Ans - Logical operators in Python are used to evaluate multiple conditions and determine the overall truth value of an expression. There are three logical operators in Python: and, or & not"
      ],
      "metadata": {
        "id": "y2ibk9ne35XG"
      }
    },
    {
      "cell_type": "markdown",
      "source": [
        "Q9 - What is type casting in Python?"
      ],
      "metadata": {
        "id": "G_C7mN8W37bR"
      }
    },
    {
      "cell_type": "markdown",
      "source": [
        "Ans - Type casting in Python is the process of converting one data type to another. It is also known as type conversion."
      ],
      "metadata": {
        "id": "4sfC2iin3-xk"
      }
    },
    {
      "cell_type": "markdown",
      "source": [
        "Q10 - What is the difference between implicit and explicit type casting?"
      ],
      "metadata": {
        "id": "zPD1PhJc4CPD"
      }
    },
    {
      "cell_type": "markdown",
      "source": [
        "Ans - The main difference between implicit and explicit type casting is that implicit type casting happens automatically, while explicit type casting requires manual intervention: Implicit type casting also known as widening conversion, this is when the compiler automatically converts a value from a smaller data type to a larger one without data loss. It's used to ensure compatibility and prevent data loss in mathematical operations.\n",
        "Explicit type casting is when the programmer manually defines the type conversion, usually to convert a larger type to a smaller one. It provides more control over the data conversion process, allowing for precise management of data types and preventing unintended data loss or errors."
      ],
      "metadata": {
        "id": "v72eTI0I4Eil"
      }
    },
    {
      "cell_type": "markdown",
      "source": [
        "Q11 - What is the purpose of conditional statements in Python?"
      ],
      "metadata": {
        "id": "yyDFDoMH4GZd"
      }
    },
    {
      "cell_type": "markdown",
      "source": [
        "Ans - The purpose of conditional statements in Python is to guide a program's execution by making decisions based on certain conditions:\n",
        "Control flow - Conditional statements determine the direction of a program's code execution.\n",
        "Efficiency - Conditional statements can make code more efficient and easier to read. For example, you can use a conditional statement to print a message only if a certain condition is met.\n",
        "Decision making - Conditional statements allow you to make decisions based on variable values or comparison results.\n",
        "Some examples of conditional statements in Python include:\n",
        "If, Else & Elif\n",
        "\n",
        "Some operators used with Python conditional statements include:\n",
        "\n",
        "Equals (==), Not Equals (!=), Greater Than (>), Less Than (<), Greater Than or Equal to (>=)"
      ],
      "metadata": {
        "id": "lJJWccgH4JNQ"
      }
    },
    {
      "cell_type": "markdown",
      "source": [
        "Q12 - How does the elif statement work?"
      ],
      "metadata": {
        "id": "Xg07qWmU4NDI"
      }
    },
    {
      "cell_type": "markdown",
      "source": [
        "Ans - Elif: Checks multiple conditions in sequence and executes different code blocks depending on which condition is true"
      ],
      "metadata": {
        "id": "HxX7do-64Px0"
      }
    },
    {
      "cell_type": "markdown",
      "source": [
        "Q13 - What is the difference between for and while loops?"
      ],
      "metadata": {
        "id": "eANZLAYm4TO-"
      }
    },
    {
      "cell_type": "markdown",
      "source": [
        "Ans - For loop is used to iterate over a sequence of items. While loop is used to repeatedly execute a block of statements while a condition is true."
      ],
      "metadata": {
        "id": "XPmCHXG74VX3"
      }
    },
    {
      "cell_type": "markdown",
      "source": [
        "Q14 - Describe a scenario where a while loop is more suitable than a for loop?"
      ],
      "metadata": {
        "id": "snFy_YpU4Xo1"
      }
    },
    {
      "cell_type": "markdown",
      "source": [
        "Ans - You would use a while loop if you do not know how many times a loop will need to run because while loops are ideal when the number of iterations is not predetermined. To do number calculations, both while and for loops can be used, but typically a for loop is preferred if you know the exact number of iterations"
      ],
      "metadata": {
        "id": "aO0cbF7w4eSZ"
      }
    },
    {
      "cell_type": "markdown",
      "source": [
        "Set 2 Q1 - Write a Python program to print \"Hello, World!\" ?"
      ],
      "metadata": {
        "id": "w7ewf1SV4jNV"
      }
    },
    {
      "cell_type": "code",
      "source": [
        "print(\"Hello, world!\")"
      ],
      "metadata": {
        "colab": {
          "base_uri": "https://localhost:8080/"
        },
        "id": "DFXJMR4T4mj_",
        "outputId": "94742471-b90c-4245-c952-263d7b807ea9"
      },
      "execution_count": 1,
      "outputs": [
        {
          "output_type": "stream",
          "name": "stdout",
          "text": [
            "Hello, world!\n"
          ]
        }
      ]
    },
    {
      "cell_type": "markdown",
      "source": [
        "Set 2 Q2 - Write a Python program that displays your name and age?"
      ],
      "metadata": {
        "id": "xlig8jUF4w2r"
      }
    },
    {
      "cell_type": "code",
      "source": [
        "name = input(\"Enter your name: \")\n",
        "age = int(input(\"Enter your age: \"))\n",
        "print(\"Name:\", name)\n",
        "print(\"Age:\", age)"
      ],
      "metadata": {
        "colab": {
          "base_uri": "https://localhost:8080/"
        },
        "id": "XCdEWUZl4xqd",
        "outputId": "2fe51029-17fc-43d7-c684-51ba7b126c1a"
      },
      "execution_count": 2,
      "outputs": [
        {
          "output_type": "stream",
          "name": "stdout",
          "text": [
            "Enter your name: Ajay\n",
            "Enter your age: 37\n",
            "Name: Ajay\n",
            "Age: 37\n"
          ]
        }
      ]
    },
    {
      "cell_type": "markdown",
      "source": [
        "Set 2 Q3 - Write code to print all the pre-defined keywords in Python using the keyword library?"
      ],
      "metadata": {
        "id": "TrRXa5wT47-N"
      }
    },
    {
      "cell_type": "code",
      "source": [
        "help(\"keywords\")"
      ],
      "metadata": {
        "colab": {
          "base_uri": "https://localhost:8080/"
        },
        "id": "MaWUvbfx49SH",
        "outputId": "8fee63d4-868c-4a9a-9601-e37378aacc74"
      },
      "execution_count": 3,
      "outputs": [
        {
          "output_type": "stream",
          "name": "stdout",
          "text": [
            "\n",
            "Here is a list of the Python keywords.  Enter any keyword to get more help.\n",
            "\n",
            "False               class               from                or\n",
            "None                continue            global              pass\n",
            "True                def                 if                  raise\n",
            "and                 del                 import              return\n",
            "as                  elif                in                  try\n",
            "assert              else                is                  while\n",
            "async               except              lambda              with\n",
            "await               finally             nonlocal            yield\n",
            "break               for                 not                 \n",
            "\n"
          ]
        }
      ]
    },
    {
      "cell_type": "markdown",
      "source": [
        "Set 2 Q4 - Write a program that checks if a given word is a Python keyword?"
      ],
      "metadata": {
        "id": "mxo-IkMF5DBZ"
      }
    },
    {
      "cell_type": "code",
      "source": [
        "import keyword\n",
        "word = input(\"Enter a word: \")\n",
        "if keyword.iskeyword(word):\n",
        "    print(f\"'{word}' is a Python keyword.\")\n",
        "else:\n",
        "    print(f\"'{word}' is not a Python keyword.\")"
      ],
      "metadata": {
        "colab": {
          "base_uri": "https://localhost:8080/"
        },
        "id": "xESzrfic5KFm",
        "outputId": "070d8403-1b09-4ac8-b9ee-7a2073a0556f"
      },
      "execution_count": 4,
      "outputs": [
        {
          "output_type": "stream",
          "name": "stdout",
          "text": [
            "Enter a word: False\n",
            "'False' is a Python keyword.\n"
          ]
        }
      ]
    },
    {
      "cell_type": "markdown",
      "source": [
        "Set 2 Q5 - Create a list and tuple in Python, and demonstrate how attempting to change an element works differently\n",
        "for each?"
      ],
      "metadata": {
        "id": "2KJx-GQ55RKF"
      }
    },
    {
      "cell_type": "code",
      "source": [
        "list = [1, 2, 3, 4, 5]\n",
        "tuple = (1, 2, 3, 4, 5)\n",
        "print(\"Original list:\", list)"
      ],
      "metadata": {
        "colab": {
          "base_uri": "https://localhost:8080/"
        },
        "id": "HySKfCQg5d5K",
        "outputId": "f0c42711-8c24-4a7f-ee04-c98f2249dc55"
      },
      "execution_count": 5,
      "outputs": [
        {
          "output_type": "stream",
          "name": "stdout",
          "text": [
            "Original list: [1, 2, 3, 4, 5]\n"
          ]
        }
      ]
    },
    {
      "cell_type": "code",
      "source": [
        "list = [1, 2, 3, 4, 5]\n",
        "tuple = (1, 2, 3, 4, 5)\n",
        "list[2] = 7  # trying to modify the list\n",
        "print(\"Modified list:\", list)"
      ],
      "metadata": {
        "colab": {
          "base_uri": "https://localhost:8080/"
        },
        "id": "NFk8azZH5in_",
        "outputId": "e14246a3-761b-4bef-ca21-242c1cc117df"
      },
      "execution_count": 6,
      "outputs": [
        {
          "output_type": "stream",
          "name": "stdout",
          "text": [
            "Modified list: [1, 2, 7, 4, 5]\n"
          ]
        }
      ]
    },
    {
      "cell_type": "code",
      "source": [
        "list = [1, 2, 3, 4, 5]\n",
        "tuple = (1, 2, 3, 4, 5)\n",
        "print(\"Original tuple:\", tuple)"
      ],
      "metadata": {
        "colab": {
          "base_uri": "https://localhost:8080/"
        },
        "id": "EF_QXdOZ5op5",
        "outputId": "f4d5162b-aa22-4ac4-a334-6b04e5ead67d"
      },
      "execution_count": 7,
      "outputs": [
        {
          "output_type": "stream",
          "name": "stdout",
          "text": [
            "Original tuple: (1, 2, 3, 4, 5)\n"
          ]
        }
      ]
    },
    {
      "cell_type": "code",
      "source": [
        "list = [1, 2, 3, 4, 5]\n",
        "tuple = (1, 2, 3, 4, 5)\n",
        "tuple[2] = 7  # trying to modify tuple give below error\n",
        "print(\"Modified tuple:\", tuple)"
      ],
      "metadata": {
        "colab": {
          "base_uri": "https://localhost:8080/",
          "height": 193
        },
        "id": "8OIG0AU75uQZ",
        "outputId": "42b31664-9c07-4049-a079-75e159f2fd57"
      },
      "execution_count": 8,
      "outputs": [
        {
          "output_type": "error",
          "ename": "TypeError",
          "evalue": "'tuple' object does not support item assignment",
          "traceback": [
            "\u001b[0;31m---------------------------------------------------------------------------\u001b[0m",
            "\u001b[0;31mTypeError\u001b[0m                                 Traceback (most recent call last)",
            "\u001b[0;32m<ipython-input-8-92c09930bb4e>\u001b[0m in \u001b[0;36m<cell line: 3>\u001b[0;34m()\u001b[0m\n\u001b[1;32m      1\u001b[0m \u001b[0mlist\u001b[0m \u001b[0;34m=\u001b[0m \u001b[0;34m[\u001b[0m\u001b[0;36m1\u001b[0m\u001b[0;34m,\u001b[0m \u001b[0;36m2\u001b[0m\u001b[0;34m,\u001b[0m \u001b[0;36m3\u001b[0m\u001b[0;34m,\u001b[0m \u001b[0;36m4\u001b[0m\u001b[0;34m,\u001b[0m \u001b[0;36m5\u001b[0m\u001b[0;34m]\u001b[0m\u001b[0;34m\u001b[0m\u001b[0;34m\u001b[0m\u001b[0m\n\u001b[1;32m      2\u001b[0m \u001b[0mtuple\u001b[0m \u001b[0;34m=\u001b[0m \u001b[0;34m(\u001b[0m\u001b[0;36m1\u001b[0m\u001b[0;34m,\u001b[0m \u001b[0;36m2\u001b[0m\u001b[0;34m,\u001b[0m \u001b[0;36m3\u001b[0m\u001b[0;34m,\u001b[0m \u001b[0;36m4\u001b[0m\u001b[0;34m,\u001b[0m \u001b[0;36m5\u001b[0m\u001b[0;34m)\u001b[0m\u001b[0;34m\u001b[0m\u001b[0;34m\u001b[0m\u001b[0m\n\u001b[0;32m----> 3\u001b[0;31m \u001b[0mtuple\u001b[0m\u001b[0;34m[\u001b[0m\u001b[0;36m2\u001b[0m\u001b[0;34m]\u001b[0m \u001b[0;34m=\u001b[0m \u001b[0;36m7\u001b[0m  \u001b[0;31m# trying to modify tuple give below error\u001b[0m\u001b[0;34m\u001b[0m\u001b[0;34m\u001b[0m\u001b[0m\n\u001b[0m\u001b[1;32m      4\u001b[0m \u001b[0mprint\u001b[0m\u001b[0;34m(\u001b[0m\u001b[0;34m\"Modified tuple:\"\u001b[0m\u001b[0;34m,\u001b[0m \u001b[0mtuple\u001b[0m\u001b[0;34m)\u001b[0m\u001b[0;34m\u001b[0m\u001b[0;34m\u001b[0m\u001b[0m\n",
            "\u001b[0;31mTypeError\u001b[0m: 'tuple' object does not support item assignment"
          ]
        }
      ]
    },
    {
      "cell_type": "markdown",
      "source": [
        "Set 2 Q6 & Q7 - Write a function to demonstrate the behavior of mutable and immutable arguments?"
      ],
      "metadata": {
        "id": "Zyhgmu735w5i"
      }
    },
    {
      "cell_type": "markdown",
      "source": [
        "Ans - In Python, the behavior of mutable and immutable arguments can differ when passed into a function. Immutable objects (like integers, strings, and tuples) cannot be modified in place, while mutable objects (like lists and dictionaries) can be modified in place.\n",
        "\n",
        "Immutable Argument (arg1): x is an integer, which is immutable in Python. When we modify arg1 inside the function by adding 10, it does not affect the original value of x. Instead, arg1 points to a new integer.\n",
        "\n",
        "Mutable Argument (arg2): y is a list, which is mutable. When we modify arg2 by appending 99, the original list y is directly affected because lists are mutable.\n",
        "\n",
        "To demonstrate the behavior, let's write a function that shows how mutable and immutable types behave when passed as arguments:"
      ],
      "metadata": {
        "id": "5s_lyGPl7Xkg"
      }
    },
    {
      "cell_type": "code",
      "source": [
        "def demo_mutable_immutable(arg1, arg2):\n",
        "    print(\"Before modification:\")\n",
        "    print(\"arg1 (immutable):\", arg1)\n",
        "    print(\"arg2 (mutable):\", arg2)\n",
        "\n",
        "    # Modify the immutable argument (this won't change the original)\n",
        "    arg1 = arg1 + 10\n",
        "    print(\"After modifying arg1 (immutable):\")\n",
        "    print(\"arg1 (immutable):\", arg1)\n",
        "\n",
        "    # Modify the mutable argument (this will change the original)\n",
        "    arg2.append(99)\n",
        "    print(\"After modifying arg2 (mutable):\")\n",
        "    print(\"arg2 (mutable):\", arg2)"
      ],
      "metadata": {
        "id": "WfzU4wWF-LyL"
      },
      "execution_count": 15,
      "outputs": []
    },
    {
      "cell_type": "code",
      "source": [
        "x = 5         # Immutable argument (int)\n",
        "y = [1, 2, 3] # Mutable argument (list)"
      ],
      "metadata": {
        "id": "Usler-Mm-ZmC"
      },
      "execution_count": 16,
      "outputs": []
    },
    {
      "cell_type": "code",
      "source": [
        "demo_mutable_immutable(x, y)\n",
        "\n",
        "# Showing the result after function call\n",
        "print(\"After function call:\")\n",
        "print(\"x (immutable):\", x)  # x remains unchanged\n",
        "print(\"y (mutable):\", y)    # y is modified"
      ],
      "metadata": {
        "colab": {
          "base_uri": "https://localhost:8080/"
        },
        "id": "VpbYjns0-lkU",
        "outputId": "ce2b3ad4-0c7b-413e-d310-03860128c0bb"
      },
      "execution_count": 20,
      "outputs": [
        {
          "output_type": "stream",
          "name": "stdout",
          "text": [
            "Before modification:\n",
            "arg1 (immutable): 5\n",
            "arg2 (mutable): [1, 2, 3, 99, 99, 99]\n",
            "After modifying arg1 (immutable):\n",
            "arg1 (immutable): 15\n",
            "After modifying arg2 (mutable):\n",
            "arg2 (mutable): [1, 2, 3, 99, 99, 99, 99]\n",
            "After function call:\n",
            "x (immutable): 5\n",
            "y (mutable): [1, 2, 3, 99, 99, 99, 99]\n"
          ]
        }
      ]
    },
    {
      "cell_type": "markdown",
      "source": [
        "Set 2 Q8 - Write a program to demonstrate the use of logical operators?"
      ],
      "metadata": {
        "id": "AnWwJ0fg_qxV"
      }
    },
    {
      "cell_type": "code",
      "source": [
        "# Ans 8 (I) -  Using the 'and' operator\n",
        "# Check if x is greater than z and y is greater than x\n",
        "\n",
        "x = 50\n",
        "y = 100\n",
        "z = 923\n",
        "\n",
        "if x > z and y > x:\n",
        "    print(f\"x is greater than z and y is greater than x: True\")\n",
        "else:\n",
        "    print(f\"x is greater than z and y is greater than x: False\")"
      ],
      "metadata": {
        "colab": {
          "base_uri": "https://localhost:8080/"
        },
        "id": "V-WrLXBs_v8Z",
        "outputId": "2dbf77b5-2ec9-471d-d26c-79739fa17d7c"
      },
      "execution_count": 21,
      "outputs": [
        {
          "output_type": "stream",
          "name": "stdout",
          "text": [
            "x is greater than z and y is greater than x: False\n"
          ]
        }
      ]
    },
    {
      "cell_type": "code",
      "source": [
        "# Ans 8 (II) Using the 'or' operator\n",
        "# Check if x is greater than y or y is greater than z\n",
        "if x > y or y > z:\n",
        "    print(f\"x is greater than y or y is greater than z: True\")\n",
        "else:\n",
        "    print(f\"x is greater than y or y is greater than z: False\")"
      ],
      "metadata": {
        "colab": {
          "base_uri": "https://localhost:8080/"
        },
        "id": "yYK7jH4Z_32x",
        "outputId": "692c3691-0eb4-4f5c-b599-a4dc26b050b8"
      },
      "execution_count": 22,
      "outputs": [
        {
          "output_type": "stream",
          "name": "stdout",
          "text": [
            "x is greater than y or y is greater than z: False\n"
          ]
        }
      ]
    },
    {
      "cell_type": "code",
      "source": [
        "# Ans 8 (III) Using the 'not' operator\n",
        "# Check if x is not equal to y\n",
        "if not(x == y):\n",
        "    print(f\"x is not equal to y: True\")\n",
        "else:\n",
        "    print(f\"x is not equal to y: False\")"
      ],
      "metadata": {
        "colab": {
          "base_uri": "https://localhost:8080/"
        },
        "id": "KUSJISN8_-c_",
        "outputId": "87dea6ba-4721-4435-c8ea-37bd57c40a13"
      },
      "execution_count": 23,
      "outputs": [
        {
          "output_type": "stream",
          "name": "stdout",
          "text": [
            "x is not equal to y: True\n"
          ]
        }
      ]
    },
    {
      "cell_type": "code",
      "source": [
        "# Ans 8 (IV) Combining all three logical operators\n",
        "# Check if x is greater than z, and if y is less than 30, or if x is not equal to y\n",
        "if (x > z and y < 30) or not(x == y):\n",
        "    print(f\"Condition met using combined logical operators: True\")\n",
        "else:\n",
        "    print(f\"Condition met using combined logical operators: False\")"
      ],
      "metadata": {
        "colab": {
          "base_uri": "https://localhost:8080/"
        },
        "id": "0YW3D4KqABky",
        "outputId": "ef552fb6-b18b-4c88-8dcb-97f61d0c805e"
      },
      "execution_count": 24,
      "outputs": [
        {
          "output_type": "stream",
          "name": "stdout",
          "text": [
            "Condition met using combined logical operators: True\n"
          ]
        }
      ]
    },
    {
      "cell_type": "markdown",
      "source": [
        "Set 2 Q8 - Write a Python program to convert user input from string to integer, float, and boolean types?"
      ],
      "metadata": {
        "id": "cBd0yoVpAGan"
      }
    },
    {
      "cell_type": "code",
      "source": [
        "# Ans 8 (I) convert input to integer, float, and boolean types\n",
        "#input as a string\n",
        "user_input = input(\"Enter a value: \")\n",
        "try:\n",
        "    int_value = int(user_input)  # Convert string to integer\n",
        "    print(f\"Converted to integer: {int_value}\")\n",
        "except ValueError:\n",
        "    print(\"Invalid input for integer conversion.\")"
      ],
      "metadata": {
        "colab": {
          "base_uri": "https://localhost:8080/"
        },
        "id": "mqZEj37SANGG",
        "outputId": "1ed4d4fd-e388-4bbc-b428-bd6c1f31e158"
      },
      "execution_count": 25,
      "outputs": [
        {
          "output_type": "stream",
          "name": "stdout",
          "text": [
            "Enter a value: 1\n",
            "Converted to integer: 1\n"
          ]
        }
      ]
    },
    {
      "cell_type": "code",
      "source": [
        "#Ans 8 (II)\n",
        "try:\n",
        "    float_value = float(user_input)  # Convert string to float\n",
        "    print(f\"Converted to float: {float_value}\")\n",
        "except ValueError:\n",
        "    print(\"Invalid input for float conversion.\")"
      ],
      "metadata": {
        "colab": {
          "base_uri": "https://localhost:8080/"
        },
        "id": "0fIyhTWSCSn0",
        "outputId": "2736e7e4-4621-44b4-d354-44ff10c37b07"
      },
      "execution_count": 26,
      "outputs": [
        {
          "output_type": "stream",
          "name": "stdout",
          "text": [
            "Converted to float: 1.0\n"
          ]
        }
      ]
    },
    {
      "cell_type": "code",
      "source": [
        "# Ans 8 (III) Convert to boolean type\n",
        "boolean_value = user_input.strip().lower() in [\"true\", \"1\", \"t\", \"y\", \"yes\"]\n",
        "print(f\"Converted to boolean: {boolean_value}\")"
      ],
      "metadata": {
        "colab": {
          "base_uri": "https://localhost:8080/"
        },
        "id": "uniHxxu0CW2l",
        "outputId": "ee392b2f-37a4-4f08-b3af-6dfaa522be40"
      },
      "execution_count": 27,
      "outputs": [
        {
          "output_type": "stream",
          "name": "stdout",
          "text": [
            "Converted to boolean: True\n"
          ]
        }
      ]
    },
    {
      "cell_type": "markdown",
      "source": [
        "Set 2 Q9 - Write code to demonstrate type casting with list elements?"
      ],
      "metadata": {
        "id": "J_qwzkMTCdxP"
      }
    },
    {
      "cell_type": "code",
      "source": [
        "# Ans - 9 (I) - Original list with different types of elements\n",
        "mixed_list = [\"10\", \"20.5\", \"True\", 30, 40.75, False]\n",
        "print(\"Original list:\", mixed_list)"
      ],
      "metadata": {
        "colab": {
          "base_uri": "https://localhost:8080/"
        },
        "id": "JXJsRuKFCmgx",
        "outputId": "a257899f-d9b2-46f7-cf26-45398ffa61de"
      },
      "execution_count": 29,
      "outputs": [
        {
          "output_type": "stream",
          "name": "stdout",
          "text": [
            "Original list: ['10', '20.5', 'True', 30, 40.75, False]\n"
          ]
        }
      ]
    },
    {
      "cell_type": "code",
      "source": [
        "# Ans - 9 (II) Convert all elements to boolean type\n",
        "bool_list = [bool(item) if isinstance(item, (str, int, float)) else item for item in mixed_list]\n",
        "print(\"\\nList after converting to booleans:\", bool_list)"
      ],
      "metadata": {
        "colab": {
          "base_uri": "https://localhost:8080/"
        },
        "id": "w0YO4PwCCpyd",
        "outputId": "7563d7eb-1273-4e0d-97df-cf5159ca7400"
      },
      "execution_count": 30,
      "outputs": [
        {
          "output_type": "stream",
          "name": "stdout",
          "text": [
            "\n",
            "List after converting to booleans: [True, True, True, True, True, False]\n"
          ]
        }
      ]
    },
    {
      "cell_type": "code",
      "source": [
        "# Ans - 9 (III) Convert all elements to string type\n",
        "str_list = [str(item) for item in mixed_list]\n",
        "print(\"\\nList after converting to strings:\", str_list)"
      ],
      "metadata": {
        "colab": {
          "base_uri": "https://localhost:8080/"
        },
        "id": "Rynm1bLQCw2N",
        "outputId": "b6f98e94-9100-470c-8219-8a3b3c28e598"
      },
      "execution_count": 31,
      "outputs": [
        {
          "output_type": "stream",
          "name": "stdout",
          "text": [
            "\n",
            "List after converting to strings: ['10', '20.5', 'True', '30', '40.75', 'False']\n"
          ]
        }
      ]
    },
    {
      "cell_type": "code",
      "source": [
        "# # Ans - 9 (IV) Convert all elements to float type\n",
        "float_list = [float(item) if isinstance(item, (str, int)) else item for item in mixed_list]\n",
        "print(\"\\nList after converting to floats:\", float_list)"
      ],
      "metadata": {
        "colab": {
          "base_uri": "https://localhost:8080/",
          "height": 263
        },
        "id": "w4021QFSCzjj",
        "outputId": "e2b0898a-f9e5-425a-be9f-3483a3e4f6ee"
      },
      "execution_count": 32,
      "outputs": [
        {
          "output_type": "error",
          "ename": "ValueError",
          "evalue": "could not convert string to float: 'True'",
          "traceback": [
            "\u001b[0;31m---------------------------------------------------------------------------\u001b[0m",
            "\u001b[0;31mValueError\u001b[0m                                Traceback (most recent call last)",
            "\u001b[0;32m<ipython-input-32-da3c4ca4b27a>\u001b[0m in \u001b[0;36m<cell line: 2>\u001b[0;34m()\u001b[0m\n\u001b[1;32m      1\u001b[0m \u001b[0;31m# # Ans - 9 (IV) Convert all elements to float type\u001b[0m\u001b[0;34m\u001b[0m\u001b[0;34m\u001b[0m\u001b[0m\n\u001b[0;32m----> 2\u001b[0;31m \u001b[0mfloat_list\u001b[0m \u001b[0;34m=\u001b[0m \u001b[0;34m[\u001b[0m\u001b[0mfloat\u001b[0m\u001b[0;34m(\u001b[0m\u001b[0mitem\u001b[0m\u001b[0;34m)\u001b[0m \u001b[0;32mif\u001b[0m \u001b[0misinstance\u001b[0m\u001b[0;34m(\u001b[0m\u001b[0mitem\u001b[0m\u001b[0;34m,\u001b[0m \u001b[0;34m(\u001b[0m\u001b[0mstr\u001b[0m\u001b[0;34m,\u001b[0m \u001b[0mint\u001b[0m\u001b[0;34m)\u001b[0m\u001b[0;34m)\u001b[0m \u001b[0;32melse\u001b[0m \u001b[0mitem\u001b[0m \u001b[0;32mfor\u001b[0m \u001b[0mitem\u001b[0m \u001b[0;32min\u001b[0m \u001b[0mmixed_list\u001b[0m\u001b[0;34m]\u001b[0m\u001b[0;34m\u001b[0m\u001b[0;34m\u001b[0m\u001b[0m\n\u001b[0m\u001b[1;32m      3\u001b[0m \u001b[0mprint\u001b[0m\u001b[0;34m(\u001b[0m\u001b[0;34m\"\\nList after converting to floats:\"\u001b[0m\u001b[0;34m,\u001b[0m \u001b[0mfloat_list\u001b[0m\u001b[0;34m)\u001b[0m\u001b[0;34m\u001b[0m\u001b[0;34m\u001b[0m\u001b[0m\n",
            "\u001b[0;32m<ipython-input-32-da3c4ca4b27a>\u001b[0m in \u001b[0;36m<listcomp>\u001b[0;34m(.0)\u001b[0m\n\u001b[1;32m      1\u001b[0m \u001b[0;31m# # Ans - 9 (IV) Convert all elements to float type\u001b[0m\u001b[0;34m\u001b[0m\u001b[0;34m\u001b[0m\u001b[0m\n\u001b[0;32m----> 2\u001b[0;31m \u001b[0mfloat_list\u001b[0m \u001b[0;34m=\u001b[0m \u001b[0;34m[\u001b[0m\u001b[0mfloat\u001b[0m\u001b[0;34m(\u001b[0m\u001b[0mitem\u001b[0m\u001b[0;34m)\u001b[0m \u001b[0;32mif\u001b[0m \u001b[0misinstance\u001b[0m\u001b[0;34m(\u001b[0m\u001b[0mitem\u001b[0m\u001b[0;34m,\u001b[0m \u001b[0;34m(\u001b[0m\u001b[0mstr\u001b[0m\u001b[0;34m,\u001b[0m \u001b[0mint\u001b[0m\u001b[0;34m)\u001b[0m\u001b[0;34m)\u001b[0m \u001b[0;32melse\u001b[0m \u001b[0mitem\u001b[0m \u001b[0;32mfor\u001b[0m \u001b[0mitem\u001b[0m \u001b[0;32min\u001b[0m \u001b[0mmixed_list\u001b[0m\u001b[0;34m]\u001b[0m\u001b[0;34m\u001b[0m\u001b[0;34m\u001b[0m\u001b[0m\n\u001b[0m\u001b[1;32m      3\u001b[0m \u001b[0mprint\u001b[0m\u001b[0;34m(\u001b[0m\u001b[0;34m\"\\nList after converting to floats:\"\u001b[0m\u001b[0;34m,\u001b[0m \u001b[0mfloat_list\u001b[0m\u001b[0;34m)\u001b[0m\u001b[0;34m\u001b[0m\u001b[0;34m\u001b[0m\u001b[0m\n",
            "\u001b[0;31mValueError\u001b[0m: could not convert string to float: 'True'"
          ]
        }
      ]
    },
    {
      "cell_type": "markdown",
      "source": [
        "Set 2 Q10 - Write a program that checks if a number is positive, negative, or zero?"
      ],
      "metadata": {
        "id": "wYZ-TbzHDBvn"
      }
    },
    {
      "cell_type": "code",
      "source": [
        "# Ans 10 - Function to check if the number is positive, negative, or zero\n",
        "def check_number(num):\n",
        "    if num > 0:\n",
        "        return \"The number is positive.\"\n",
        "    elif num < 0:\n",
        "        return \"The number is negative.\"\n",
        "    else:\n",
        "        return \"The number is zero.\"\n",
        "\n",
        "# Input from user\n",
        "number = float(input(\"Enter a number: \"))\n",
        "\n",
        "# Call the function and display the result\n",
        "result = check_number(number)\n",
        "print(result)"
      ],
      "metadata": {
        "colab": {
          "base_uri": "https://localhost:8080/"
        },
        "id": "xV_zrhFtDFkf",
        "outputId": "5b02bbde-ab94-4cbf-a557-bc84b2cd1ef7"
      },
      "execution_count": 33,
      "outputs": [
        {
          "output_type": "stream",
          "name": "stdout",
          "text": [
            "Enter a number: 1.22\n",
            "The number is positive.\n"
          ]
        }
      ]
    },
    {
      "cell_type": "markdown",
      "source": [
        "Set 2 Q11 - Write a for loop to print numbers from 1 to 100?"
      ],
      "metadata": {
        "id": "KFvYqnCIDMt-"
      }
    },
    {
      "cell_type": "code",
      "source": [
        "# ans 11 - Using a for loop to print numbers from 1 to 100\n",
        "for num in range(1, 101):\n",
        "    print(num)"
      ],
      "metadata": {
        "colab": {
          "base_uri": "https://localhost:8080/"
        },
        "id": "xa2tRXZCDOs_",
        "outputId": "1baddcd8-4e1c-48a8-d12b-a8de9fae7fc7"
      },
      "execution_count": 34,
      "outputs": [
        {
          "output_type": "stream",
          "name": "stdout",
          "text": [
            "1\n",
            "2\n",
            "3\n",
            "4\n",
            "5\n",
            "6\n",
            "7\n",
            "8\n",
            "9\n",
            "10\n",
            "11\n",
            "12\n",
            "13\n",
            "14\n",
            "15\n",
            "16\n",
            "17\n",
            "18\n",
            "19\n",
            "20\n",
            "21\n",
            "22\n",
            "23\n",
            "24\n",
            "25\n",
            "26\n",
            "27\n",
            "28\n",
            "29\n",
            "30\n",
            "31\n",
            "32\n",
            "33\n",
            "34\n",
            "35\n",
            "36\n",
            "37\n",
            "38\n",
            "39\n",
            "40\n",
            "41\n",
            "42\n",
            "43\n",
            "44\n",
            "45\n",
            "46\n",
            "47\n",
            "48\n",
            "49\n",
            "50\n",
            "51\n",
            "52\n",
            "53\n",
            "54\n",
            "55\n",
            "56\n",
            "57\n",
            "58\n",
            "59\n",
            "60\n",
            "61\n",
            "62\n",
            "63\n",
            "64\n",
            "65\n",
            "66\n",
            "67\n",
            "68\n",
            "69\n",
            "70\n",
            "71\n",
            "72\n",
            "73\n",
            "74\n",
            "75\n",
            "76\n",
            "77\n",
            "78\n",
            "79\n",
            "80\n",
            "81\n",
            "82\n",
            "83\n",
            "84\n",
            "85\n",
            "86\n",
            "87\n",
            "88\n",
            "89\n",
            "90\n",
            "91\n",
            "92\n",
            "93\n",
            "94\n",
            "95\n",
            "96\n",
            "97\n",
            "98\n",
            "99\n",
            "100\n"
          ]
        }
      ]
    },
    {
      "cell_type": "markdown",
      "source": [
        "Set 2 Q12 - Write a Python program to find the sum of all even numbers between 1 and 500?"
      ],
      "metadata": {
        "id": "us9Be3f6E9is"
      }
    },
    {
      "cell_type": "code",
      "source": [
        "# Ans - 12 - # Loop through numbers from 1 to 500\n",
        "sum_of_even_numbers = 0\n",
        "\n",
        "for num in range(2, 501, 2):\n",
        "    sum_of_even_numbers += num\n",
        "\n",
        "# Print the result\n",
        "print(\"The sum of all even numbers between 1 and 500 is:\", sum_of_even_numbers)"
      ],
      "metadata": {
        "colab": {
          "base_uri": "https://localhost:8080/"
        },
        "id": "2zvCi9uEFBYn",
        "outputId": "91d5a37b-a5db-45d2-a0d6-57d659b4c3aa"
      },
      "execution_count": 35,
      "outputs": [
        {
          "output_type": "stream",
          "name": "stdout",
          "text": [
            "The sum of all even numbers between 1 and 500 is: 62750\n"
          ]
        }
      ]
    },
    {
      "cell_type": "markdown",
      "source": [
        "Set 2 Q13 - Write a program to reverse a string using a while loop?"
      ],
      "metadata": {
        "id": "J6-2WVTIFEVJ"
      }
    },
    {
      "cell_type": "code",
      "source": [
        "# Ans 13 - Function to reverse a string using a while loop\n",
        "def reverse_string(input_string):\n",
        "    reversed_string = \"\"  # Initialize an empty string to store the reversed string\n",
        "    index = len(input_string) - 1  # Start from the last character\n",
        "\n",
        "    # Use a while loop to iterate through the string backwards\n",
        "    while index >= 0:\n",
        "        reversed_string += input_string[index]  # Add the character at the current index to the reversed string\n",
        "        index -= 1  # Move to the previous character\n",
        "\n",
        "    return reversed_string\n",
        "\n",
        "user_input = input(\"Enter a string: \")\n",
        "\n",
        "reversed_str = reverse_string(user_input)\n",
        "print(\"Reversed string:\", reversed_str)"
      ],
      "metadata": {
        "colab": {
          "base_uri": "https://localhost:8080/"
        },
        "id": "vQpFB6_fFHPd",
        "outputId": "32a4634c-0da9-40dc-dfad-1aeb7a63d377"
      },
      "execution_count": 36,
      "outputs": [
        {
          "output_type": "stream",
          "name": "stdout",
          "text": [
            "Enter a string: 123\n",
            "Reversed string: 321\n"
          ]
        }
      ]
    },
    {
      "cell_type": "markdown",
      "source": [
        "Set 2 Q14 - Write a Python program to calculate the factorial of a number provided by the user using a while loop?"
      ],
      "metadata": {
        "id": "lMz6wsZzFQJ8"
      }
    },
    {
      "cell_type": "code",
      "source": [
        "# Ans 14 - Function to calculate factorial using a while loop\n",
        "def calculate_factorial(num):\n",
        "    if num < 0:\n",
        "        return \"Factorial does not exist for negative numbers\"\n",
        "\n",
        "    factorial = 1  # Initialize factorial to 1 (since factorial of 0 is 1)\n",
        "\n",
        "    # Use a while loop to calculate the factorial\n",
        "    while num > 1:\n",
        "        factorial *= num  # Multiply factorial by the current number\n",
        "        num -= 1  # Decrease the number by 1\n",
        "\n",
        "    return factorial\n",
        "\n",
        "number = int(input(\"Enter a number: \"))\n",
        "\n",
        "result = calculate_factorial(number)\n",
        "print(f\"The factorial of {number} is: {result}\")"
      ],
      "metadata": {
        "colab": {
          "base_uri": "https://localhost:8080/"
        },
        "id": "MRkOiQ3uFVnt",
        "outputId": "93ebf23f-a02f-4db0-d282-ef6fc65c37b3"
      },
      "execution_count": 37,
      "outputs": [
        {
          "output_type": "stream",
          "name": "stdout",
          "text": [
            "Enter a number: -123\n",
            "The factorial of -123 is: Factorial does not exist for negative numbers\n"
          ]
        }
      ]
    }
  ]
}